{
 "cells": [
  {
   "cell_type": "code",
   "execution_count": 1,
   "id": "63c2fb19",
   "metadata": {},
   "outputs": [],
   "source": [
    "import pandas as pd\n",
    "import numpy as np\n",
    "\n",
    "import warnings\n",
    "warnings.filterwarnings(\"ignore\")"
   ]
  },
  {
   "cell_type": "code",
   "execution_count": 2,
   "id": "603246be",
   "metadata": {},
   "outputs": [],
   "source": [
    "df = pd.read_csv(\"data/insurance.csv\")"
   ]
  },
  {
   "cell_type": "code",
   "execution_count": 3,
   "id": "685af7ec",
   "metadata": {},
   "outputs": [],
   "source": [
    "from sklearn.model_selection import train_test_split\n",
    "from sklearn.preprocessing import LabelEncoder\n",
    "from sklearn.metrics import mean_absolute_error, mean_squared_error, r2_score\n",
    "from sklearn.linear_model import LinearRegression\n",
    "from sklearn.tree import DecisionTreeRegressor\n",
    "from sklearn.ensemble import RandomForestRegressor\n",
    "from sklearn.svm import SVR"
   ]
  },
  {
   "cell_type": "code",
   "execution_count": 4,
   "id": "416fc36c",
   "metadata": {},
   "outputs": [],
   "source": [
    "cat_cols = ['sex', 'region', 'smoker']\n",
    "num_cols = [x for x in df.columns if x not in cat_cols]"
   ]
  },
  {
   "cell_type": "code",
   "execution_count": 5,
   "id": "e8411b5a",
   "metadata": {},
   "outputs": [
    {
     "data": {
      "text/html": [
       "<div>\n",
       "<style scoped>\n",
       "    .dataframe tbody tr th:only-of-type {\n",
       "        vertical-align: middle;\n",
       "    }\n",
       "\n",
       "    .dataframe tbody tr th {\n",
       "        vertical-align: top;\n",
       "    }\n",
       "\n",
       "    .dataframe thead th {\n",
       "        text-align: right;\n",
       "    }\n",
       "</style>\n",
       "<table border=\"1\" class=\"dataframe\">\n",
       "  <thead>\n",
       "    <tr style=\"text-align: right;\">\n",
       "      <th></th>\n",
       "      <th>age</th>\n",
       "      <th>bmi</th>\n",
       "      <th>children</th>\n",
       "      <th>expenses</th>\n",
       "      <th>sex_female</th>\n",
       "      <th>sex_male</th>\n",
       "      <th>region_northeast</th>\n",
       "      <th>region_northwest</th>\n",
       "      <th>region_southeast</th>\n",
       "      <th>region_southwest</th>\n",
       "      <th>smoker_no</th>\n",
       "      <th>smoker_yes</th>\n",
       "    </tr>\n",
       "  </thead>\n",
       "  <tbody>\n",
       "    <tr>\n",
       "      <th>0</th>\n",
       "      <td>19</td>\n",
       "      <td>27.9</td>\n",
       "      <td>0</td>\n",
       "      <td>16884.92</td>\n",
       "      <td>True</td>\n",
       "      <td>False</td>\n",
       "      <td>False</td>\n",
       "      <td>False</td>\n",
       "      <td>False</td>\n",
       "      <td>True</td>\n",
       "      <td>False</td>\n",
       "      <td>True</td>\n",
       "    </tr>\n",
       "    <tr>\n",
       "      <th>1</th>\n",
       "      <td>18</td>\n",
       "      <td>33.8</td>\n",
       "      <td>1</td>\n",
       "      <td>1725.55</td>\n",
       "      <td>False</td>\n",
       "      <td>True</td>\n",
       "      <td>False</td>\n",
       "      <td>False</td>\n",
       "      <td>True</td>\n",
       "      <td>False</td>\n",
       "      <td>True</td>\n",
       "      <td>False</td>\n",
       "    </tr>\n",
       "    <tr>\n",
       "      <th>2</th>\n",
       "      <td>28</td>\n",
       "      <td>33.0</td>\n",
       "      <td>3</td>\n",
       "      <td>4449.46</td>\n",
       "      <td>False</td>\n",
       "      <td>True</td>\n",
       "      <td>False</td>\n",
       "      <td>False</td>\n",
       "      <td>True</td>\n",
       "      <td>False</td>\n",
       "      <td>True</td>\n",
       "      <td>False</td>\n",
       "    </tr>\n",
       "    <tr>\n",
       "      <th>3</th>\n",
       "      <td>33</td>\n",
       "      <td>22.7</td>\n",
       "      <td>0</td>\n",
       "      <td>21984.47</td>\n",
       "      <td>False</td>\n",
       "      <td>True</td>\n",
       "      <td>False</td>\n",
       "      <td>True</td>\n",
       "      <td>False</td>\n",
       "      <td>False</td>\n",
       "      <td>True</td>\n",
       "      <td>False</td>\n",
       "    </tr>\n",
       "    <tr>\n",
       "      <th>4</th>\n",
       "      <td>32</td>\n",
       "      <td>28.9</td>\n",
       "      <td>0</td>\n",
       "      <td>3866.86</td>\n",
       "      <td>False</td>\n",
       "      <td>True</td>\n",
       "      <td>False</td>\n",
       "      <td>True</td>\n",
       "      <td>False</td>\n",
       "      <td>False</td>\n",
       "      <td>True</td>\n",
       "      <td>False</td>\n",
       "    </tr>\n",
       "  </tbody>\n",
       "</table>\n",
       "</div>"
      ],
      "text/plain": [
       "   age   bmi  children  expenses  sex_female  sex_male  region_northeast  \\\n",
       "0   19  27.9         0  16884.92        True     False             False   \n",
       "1   18  33.8         1   1725.55       False      True             False   \n",
       "2   28  33.0         3   4449.46       False      True             False   \n",
       "3   33  22.7         0  21984.47       False      True             False   \n",
       "4   32  28.9         0   3866.86       False      True             False   \n",
       "\n",
       "   region_northwest  region_southeast  region_southwest  smoker_no  smoker_yes  \n",
       "0             False             False              True      False        True  \n",
       "1             False              True             False       True       False  \n",
       "2             False              True             False       True       False  \n",
       "3              True             False             False       True       False  \n",
       "4              True             False             False       True       False  "
      ]
     },
     "execution_count": 5,
     "metadata": {},
     "output_type": "execute_result"
    }
   ],
   "source": [
    "one_hot = pd.get_dummies(df[cat_cols])\n",
    "one_hot_df = pd.concat([df[num_cols], one_hot], axis=1)\n",
    "one_hot_df.head()"
   ]
  },
  {
   "cell_type": "code",
   "execution_count": null,
   "id": "9e6bf825",
   "metadata": {},
   "outputs": [],
   "source": [
    "label_encoder = LabelEncoder()\n",
    "label_encod_df = df.copy()\n",
    "for i in cat_cols:\n",
    "    label_encod_df[i] = label_encoder.fit_transform(label_encod_df[i])\n",
    "label_encod_df.head()    "
   ]
  },
  {
   "cell_type": "code",
   "execution_count": 10,
   "id": "bdebaf10",
   "metadata": {},
   "outputs": [],
   "source": [
    "X_oh = one_hot_df.drop(columns = 'expenses')\n",
    "X_le = label_encod_df.drop(columns = 'expenses')\n",
    "y = df.expenses"
   ]
  },
  {
   "cell_type": "code",
   "execution_count": 18,
   "id": "bef25c63",
   "metadata": {},
   "outputs": [],
   "source": [
    "train_oh_X, test_oh_X, train_oh_y, test_oh_y = train_test_split(X_oh, y, test_size=0.25, random_state=1234)\n",
    "train_le_X, test_le_X, train_le_y, test_le_y = train_test_split(X_le, y, test_size=0.25, random_state=1234)"
   ]
  },
  {
   "cell_type": "code",
   "execution_count": 12,
   "id": "34899702",
   "metadata": {},
   "outputs": [],
   "source": [
    "models = {\n",
    "    \"Linear Regressor\": LinearRegression(),\n",
    "    \"Support Vector Regressor\": SVR(),\n",
    "    \"Decision Tree Regressor\": DecisionTreeRegressor(),\n",
    "    \"Random Foresst Regressor\": RandomForestRegressor()\n",
    "}"
   ]
  },
  {
   "cell_type": "code",
   "execution_count": 16,
   "id": "0a40b00d",
   "metadata": {},
   "outputs": [],
   "source": [
    "def evaluate_models(train_X, test_X, train_y, test_y):\n",
    "    model_list = []\n",
    "    scores = []\n",
    "\n",
    "    for key, value in models.items():\n",
    "        model = value\n",
    "        model.fit(train_X, train_y)\n",
    "        print(key)\n",
    "        print(\"-------------------------------------\")\n",
    "        pred_train = model.predict(train_X)\n",
    "        pred_test = model.predict(test_X)\n",
    "        print(\"MAE\")\n",
    "        print(f\"Train: {mean_absolute_error(train_y, pred_train)}\")\n",
    "        print(f\"Test: {mean_absolute_error(test_y, pred_test)}\")\n",
    "        print(\"======================================\")\n",
    "        print(\"MSE\")\n",
    "        print(f\"Train: {mean_squared_error(train_y, pred_train)}\")\n",
    "        print(f\"Test: {mean_squared_error(test_y, pred_test)}\")\n",
    "        print(\"======================================\")\n",
    "        print(\"R2 Scores\")\n",
    "        print(f\"Train: {r2_score(train_y, pred_train)}\")\n",
    "        print(f\"Test: {r2_score(test_y, pred_test)}\")\n",
    "        print(\"--------------------------------------\")\n",
    "        model_list.append(value)\n",
    "        scores.append(r2_score(test_y, pred_test))\n",
    "        \n",
    "    return model_list, scores"
   ]
  },
  {
   "cell_type": "code",
   "execution_count": 17,
   "id": "ff2a1a04",
   "metadata": {},
   "outputs": [
    {
     "name": "stdout",
     "output_type": "stream",
     "text": [
      "Linear Regressor\n",
      "-------------------------------------\n",
      "MAE\n",
      "Train: 4112.190101772367\n",
      "Test: 4206.097478103472\n",
      "======================================\n",
      "MSE\n",
      "Train: 36642823.24246682\n",
      "Test: 36877242.556230456\n",
      "======================================\n",
      "R2 Scores\n",
      "Train: 0.7525050535603803\n",
      "Test: 0.7402826315056259\n",
      "--------------------------------------\n",
      "Support Vector Regressor\n",
      "-------------------------------------\n",
      "MAE\n",
      "Train: 8338.481939881674\n",
      "Test: 8252.653096647608\n",
      "======================================\n",
      "MSE\n",
      "Train: 163708826.99581227\n",
      "Test: 155979826.75064683\n",
      "======================================\n",
      "R2 Scores\n",
      "Train: -0.10573104863995963\n",
      "Test: -0.09852763747494575\n",
      "--------------------------------------\n",
      "Decision Tree Regressor\n",
      "-------------------------------------\n",
      "MAE\n",
      "Train: 19.084127617148553\n",
      "Test: 2743.3453731343284\n",
      "======================================\n",
      "MSE\n",
      "Train: 182648.2693441675\n",
      "Test: 36699033.76739284\n",
      "======================================\n",
      "R2 Scores\n",
      "Train: 0.9987663471414442\n",
      "Test: 0.7415377122673966\n",
      "--------------------------------------\n",
      "Random Foresst Regressor\n",
      "-------------------------------------\n",
      "MAE\n",
      "Train: 1011.8298037786636\n",
      "Test: 2572.521683044776\n",
      "======================================\n",
      "MSE\n",
      "Train: 3534444.546942316\n",
      "Test: 21867090.48487423\n",
      "======================================\n",
      "R2 Scores\n",
      "Train: 0.9761274627216632\n",
      "Test: 0.8459954485832243\n",
      "--------------------------------------\n"
     ]
    }
   ],
   "source": [
    "model_list_oh, scores_oh = evaluate_models(train_X=train_oh_X, \n",
    "                test_X=test_oh_X, \n",
    "                train_y=train_oh_y,\n",
    "                test_y=test_oh_y)"
   ]
  },
  {
   "cell_type": "code",
   "execution_count": 19,
   "id": "63f13869",
   "metadata": {},
   "outputs": [
    {
     "name": "stdout",
     "output_type": "stream",
     "text": [
      "Linear Regressor\n",
      "-------------------------------------\n",
      "MAE\n",
      "Train: 4116.515609921461\n",
      "Test: 4201.969751584186\n",
      "======================================\n",
      "MSE\n",
      "Train: 36683753.97004317\n",
      "Test: 36694053.69193585\n",
      "======================================\n",
      "R2 Scores\n",
      "Train: 0.7522285970176568\n",
      "Test: 0.7415727857165738\n",
      "--------------------------------------\n",
      "Support Vector Regressor\n",
      "-------------------------------------\n",
      "MAE\n",
      "Train: 8333.689795787339\n",
      "Test: 8247.328796326681\n",
      "======================================\n",
      "MSE\n",
      "Train: 163717614.28751016\n",
      "Test: 155953556.81803346\n",
      "======================================\n",
      "R2 Scores\n",
      "Train: -0.10579040024269282\n",
      "Test: -0.09834262478701317\n",
      "--------------------------------------\n",
      "Decision Tree Regressor\n",
      "-------------------------------------\n",
      "MAE\n",
      "Train: 19.084127617148553\n",
      "Test: 2832.1416716417907\n",
      "======================================\n",
      "MSE\n",
      "Train: 182648.2693441675\n",
      "Test: 37569045.237619705\n",
      "======================================\n",
      "R2 Scores\n",
      "Train: 0.9987663471414442\n",
      "Test: 0.735410435010625\n",
      "--------------------------------------\n",
      "Random Foresst Regressor\n",
      "-------------------------------------\n",
      "MAE\n",
      "Train: 998.8373977068796\n",
      "Test: 2631.724147164179\n",
      "======================================\n",
      "MSE\n",
      "Train: 3565704.8458401957\n",
      "Test: 22574958.550491903\n",
      "======================================\n",
      "R2 Scores\n",
      "Train: 0.9759163227134214\n",
      "Test: 0.8410101075300505\n",
      "--------------------------------------\n"
     ]
    }
   ],
   "source": [
    "model_list_le, scores_le = evaluate_models(train_X=train_le_X,\n",
    "                                          test_X=test_le_X,\n",
    "                                          train_y=train_le_y,\n",
    "                                          test_y=test_le_y)"
   ]
  },
  {
   "cell_type": "markdown",
   "id": "fc9d495a",
   "metadata": {},
   "source": [
    "__Linear Regressor__ has the most similar results for train and test data. And __Random Forest Regressor__ has a better accuracy for test data. We shall try to come up with some better parameters to increase accuracy of test data."
   ]
  },
  {
   "cell_type": "code",
   "execution_count": 58,
   "id": "3a239008",
   "metadata": {},
   "outputs": [],
   "source": [
    "params = {\"max_depth\": range(2, 20, 2),\n",
    "          \"n_estimators\": range(100, 400, 10),\n",
    "          \"max_features\": ['auto', 'sqrt'],\n",
    "          \"min_samples_split\": [2, 5, 10],\n",
    "          \"min_samples_leaf\": [1, 2, 4]\n",
    "}"
   ]
  },
  {
   "cell_type": "code",
   "execution_count": 59,
   "id": "ed6efdea",
   "metadata": {},
   "outputs": [],
   "source": [
    "from sklearn.model_selection import RandomizedSearchCV"
   ]
  },
  {
   "cell_type": "code",
   "execution_count": 60,
   "id": "62f7a649",
   "metadata": {},
   "outputs": [],
   "source": [
    "rf = RandomForestRegressor()"
   ]
  },
  {
   "cell_type": "code",
   "execution_count": 61,
   "id": "60009c82",
   "metadata": {},
   "outputs": [],
   "source": [
    "rf_grid = RandomizedSearchCV(\n",
    "    estimator = rf,\n",
    "    param_distributions = params,\n",
    "    n_jobs = -1,\n",
    "    verbose = 2,\n",
    "    random_state=123\n",
    "\n",
    ")"
   ]
  },
  {
   "cell_type": "code",
   "execution_count": 62,
   "id": "0439a276",
   "metadata": {},
   "outputs": [
    {
     "name": "stdout",
     "output_type": "stream",
     "text": [
      "Fitting 5 folds for each of 10 candidates, totalling 50 fits\n"
     ]
    },
    {
     "data": {
      "text/plain": [
       "RandomizedSearchCV(estimator=RandomForestRegressor(), n_jobs=-1,\n",
       "                   param_distributions={'max_depth': range(2, 20, 2),\n",
       "                                        'max_features': ['auto', 'sqrt'],\n",
       "                                        'min_samples_leaf': [1, 2, 4],\n",
       "                                        'min_samples_split': [2, 5, 10],\n",
       "                                        'n_estimators': range(100, 400, 10)},\n",
       "                   random_state=123, verbose=2)"
      ]
     },
     "execution_count": 62,
     "metadata": {},
     "output_type": "execute_result"
    }
   ],
   "source": [
    "rf_grid.fit(train_oh_X, train_oh_y)"
   ]
  },
  {
   "cell_type": "code",
   "execution_count": 63,
   "id": "403b8090",
   "metadata": {},
   "outputs": [
    {
     "data": {
      "text/plain": [
       "{'n_estimators': 360,\n",
       " 'min_samples_split': 10,\n",
       " 'min_samples_leaf': 4,\n",
       " 'max_features': 'auto',\n",
       " 'max_depth': 6}"
      ]
     },
     "execution_count": 63,
     "metadata": {},
     "output_type": "execute_result"
    }
   ],
   "source": [
    "rf_grid.best_params_"
   ]
  },
  {
   "cell_type": "code",
   "execution_count": 64,
   "id": "3b3553b2",
   "metadata": {},
   "outputs": [],
   "source": [
    "rf_opt = RandomForestRegressor(n_estimators=360,\n",
    "                              min_samples_leaf=4,\n",
    "                              min_samples_split=10,\n",
    "                              max_features='auto',\n",
    "                              max_depth=6)"
   ]
  },
  {
   "cell_type": "code",
   "execution_count": 65,
   "id": "30e1bd07",
   "metadata": {},
   "outputs": [
    {
     "data": {
      "text/plain": [
       "RandomForestRegressor(max_depth=6, min_samples_leaf=4, min_samples_split=10,\n",
       "                      n_estimators=360)"
      ]
     },
     "execution_count": 65,
     "metadata": {},
     "output_type": "execute_result"
    }
   ],
   "source": [
    "rf_opt.fit(train_le_X, train_le_y)"
   ]
  },
  {
   "cell_type": "code",
   "execution_count": 66,
   "id": "2e011706",
   "metadata": {},
   "outputs": [],
   "source": [
    "preds = rf_opt.predict(test_le_X)"
   ]
  },
  {
   "cell_type": "code",
   "execution_count": 67,
   "id": "50d779e3",
   "metadata": {},
   "outputs": [],
   "source": [
    "r2 = r2_score(test_le_y, preds)"
   ]
  },
  {
   "cell_type": "code",
   "execution_count": 68,
   "id": "95e41680",
   "metadata": {},
   "outputs": [
    {
     "data": {
      "text/plain": [
       "0.8604202345833606"
      ]
     },
     "execution_count": 68,
     "metadata": {},
     "output_type": "execute_result"
    }
   ],
   "source": [
    "r2"
   ]
  }
 ],
 "metadata": {
  "kernelspec": {
   "display_name": "Python 3 (ipykernel)",
   "language": "python",
   "name": "python3"
  },
  "language_info": {
   "codemirror_mode": {
    "name": "ipython",
    "version": 3
   },
   "file_extension": ".py",
   "mimetype": "text/x-python",
   "name": "python",
   "nbconvert_exporter": "python",
   "pygments_lexer": "ipython3",
   "version": "3.9.0"
  }
 },
 "nbformat": 4,
 "nbformat_minor": 5
}
